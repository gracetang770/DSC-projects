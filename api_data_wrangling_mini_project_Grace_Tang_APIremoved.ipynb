{
 "cells": [
  {
   "cell_type": "markdown",
   "metadata": {},
   "source": [
    "This exercise will require you to pull some data from the Qunadl API. Qaundl is currently the most widely used aggregator of financial market data."
   ]
  },
  {
   "cell_type": "markdown",
   "metadata": {},
   "source": [
    "As a first step, you will need to register a free account on the http://www.quandl.com website."
   ]
  },
  {
   "cell_type": "markdown",
   "metadata": {},
   "source": [
    "After you register, you will be provided with a unique API key, that you should store:"
   ]
  },
  {
   "cell_type": "code",
   "execution_count": 1,
   "metadata": {},
   "outputs": [],
   "source": [
    "# Store the API key as a string - according to PEP8, constants are always named in all upper case\n",
    "API_KEY = 'your API key here'\n",
    "\n",
    "#Note: remove API key before turning in assignment"
   ]
  },
  {
   "cell_type": "markdown",
   "metadata": {},
   "source": [
    "Qaundl has a large number of data sources, but, unfortunately, most of them require a Premium subscription. Still, there are also a good number of free datasets."
   ]
  },
  {
   "cell_type": "markdown",
   "metadata": {},
   "source": [
    "For this mini project, we will focus on equities data from the Frankfurt Stock Exhange (FSE), which is available for free. We'll try and analyze the stock prices of a company called Carl Zeiss Meditec, which manufactures tools for eye examinations, as well as medical lasers for laser eye surgery: https://www.zeiss.com/meditec/int/home.html. The company is listed under the stock ticker AFX_X."
   ]
  },
  {
   "cell_type": "markdown",
   "metadata": {},
   "source": [
    "You can find the detailed Quandl API instructions here: https://docs.quandl.com/docs/time-series"
   ]
  },
  {
   "cell_type": "markdown",
   "metadata": {},
   "source": [
    "While there is a dedicated Python package for connecting to the Quandl API, we would prefer that you use the *requests* package, which can be easily downloaded using *pip* or *conda*. You can find the documentation for the package here: http://docs.python-requests.org/en/master/ "
   ]
  },
  {
   "cell_type": "markdown",
   "metadata": {},
   "source": [
    "Finally, apart from the *requests* package, you are encouraged to not use any third party Python packages, such as *pandas*, and instead focus on what's available in the Python Standard Library (the *collections* module might come in handy: https://pymotw.com/3/collections/ ).\n",
    "Also, since you won't have access to DataFrames, you are encouraged to us Python's native data structures - preferably dictionaries, though some questions can also be answered using lists.\n",
    "You can read more on these data structures here: https://docs.python.org/3/tutorial/datastructures.html"
   ]
  },
  {
   "cell_type": "markdown",
   "metadata": {},
   "source": [
    "Keep in mind that the JSON responses you will be getting from the API map almost one-to-one to Python's dictionaries. Unfortunately, they can be very nested, so make sure you read up on indexing dictionaries in the documentation provided above."
   ]
  },
  {
   "cell_type": "code",
   "execution_count": 2,
   "metadata": {},
   "outputs": [],
   "source": [
    "# First, import the relevant modules\n",
    "import requests\n"
   ]
  },
  {
   "cell_type": "code",
   "execution_count": 3,
   "metadata": {},
   "outputs": [
    {
     "data": {
      "text/plain": [
       "['2020-08-14',\n",
       " 92.9,\n",
       " 93.25,\n",
       " 91.35,\n",
       " 91.85,\n",
       " None,\n",
       " 78700.0,\n",
       " 7257628.1,\n",
       " None,\n",
       " None,\n",
       " None]"
      ]
     },
     "execution_count": 3,
     "metadata": {},
     "output_type": "execute_result"
    }
   ],
   "source": [
    "# Now, call the Quandl API and pull out a small sample of the data (only one day) to get a glimpse\n",
    "# into the JSON structure that will be returned\n",
    "\n",
    "url = 'https://www.quandl.com/api/v3/datasets/FSE/AFX_X/data.json?api_key='+API_KEY\n",
    "r = requests.get(url)\n",
    "json_data = r.json()\n",
    "\n",
    "type(json_data)\n",
    "#json_data is a dictionary\n",
    "\n",
    "json_data.keys()\n",
    "#there is only one key: 'dataset_data'\n",
    "\n",
    "json_data['dataset_data'].keys()\n",
    "#there are multiple keys, but the one we're interested in is the 'data'\n",
    "\n",
    "json_data['dataset_data']['data'][0]\n",
    "#returns the data for today's date"
   ]
  },
  {
   "cell_type": "code",
   "execution_count": 4,
   "metadata": {},
   "outputs": [],
   "source": [
    "# Inspect the JSON structure of the object you created, and take note of how nested it is,\n",
    "# as well as the overall structure\n",
    "\n",
    "#json_data\n",
    "#commented out \"json_data\" to make notebook shorter and easier to grade\n",
    "\n",
    "#  'column_names': ['Date',\n",
    "#   'Open',\n",
    "#   'High',\n",
    "#   'Low',\n",
    "#   'Close',\n",
    "#   'Change',\n",
    "#   'Traded Volume',\n",
    "#   'Turnover',\n",
    "#   'Last Price of the Day',\n",
    "#   'Daily Traded Units',\n",
    "#   'Daily Turnover'],\n",
    "\n",
    "#  'start_date': '2000-06-07',\n",
    "#  'end_date': '2020-08-14',\n",
    "#  'frequency': 'daily',\n",
    "#  'data':[list of lists. Each sub-list is a date with that day's data.]"
   ]
  },
  {
   "cell_type": "markdown",
   "metadata": {},
   "source": [
    "These are your tasks for this mini project:\n",
    "\n",
    "1. Collect data from the Franfurt Stock Exchange, for the ticker AFX_X, for the whole year 2017 (keep in mind that the date format is YYYY-MM-DD).\n",
    "2. Convert the returned JSON object into a Python dictionary.\n",
    "3. Calculate what the highest and lowest opening prices were for the stock in this period.\n",
    "4. What was the largest change in any one day (based on High and Low price)?\n",
    "5. What was the largest change between any two days (based on Closing Price)?\n",
    "6. What was the average daily trading volume during this year?\n",
    "7. (Optional) What was the median trading volume during this year. (Note: you may need to implement your own function for calculating the median.)"
   ]
  },
  {
   "cell_type": "code",
   "execution_count": 5,
   "metadata": {},
   "outputs": [],
   "source": [
    "#1. Collect data from the Franfurt Stock Exchange, for the ticker AFX_X, for the whole year 2017 \n",
    "#(keep in mind that the date format is YYYY-MM-DD).\n",
    "\n",
    "url = 'https://www.quandl.com/api/v3/datasets/FSE/AFX_X/data.json?start_date=2017-01-01&end_date=2017-12-31&api_key='+API_KEY\n",
    "r = requests.get(url)\n",
    "json_data = r.json()\n",
    "#json_data\n"
   ]
  },
  {
   "cell_type": "code",
   "execution_count": 6,
   "metadata": {},
   "outputs": [
    {
     "data": {
      "text/plain": [
       "dict"
      ]
     },
     "execution_count": 6,
     "metadata": {},
     "output_type": "execute_result"
    }
   ],
   "source": [
    "#2. Convert the returned JSON object into a Python dictionary.\n",
    "\n",
    "type(json_data)\n",
    "\n",
    "#the JSON object is already a dictionary"
   ]
  },
  {
   "cell_type": "code",
   "execution_count": 7,
   "metadata": {},
   "outputs": [
    {
     "name": "stdout",
     "output_type": "stream",
     "text": [
      "The highest opening price was $53.11 and the lowest was $34.0\n"
     ]
    }
   ],
   "source": [
    "#3. Calculate what the highest and lowest opening prices were for the stock in this period.\n",
    "\n",
    "#We make a dictionary, where key = date, and value = opening price\n",
    "dict_open = {}\n",
    "\n",
    "for i in range(len(json_data['dataset_data']['data'])):\n",
    "    key = json_data['dataset_data']['data'][i][0]\n",
    "    value = json_data['dataset_data']['data'][i][1]\n",
    "    \n",
    "    if type(value) == float:\n",
    "        dict_open[key] = value\n",
    "    else:\n",
    "        pass\n",
    "\n",
    "max_value = max(dict_open.values())\n",
    "min_value = min(dict_open.values())\n",
    "\n",
    "print(\"The highest opening price was $\" + str(max_value) + \" and the lowest was $\" + str(min_value))\n"
   ]
  },
  {
   "cell_type": "code",
   "execution_count": 8,
   "metadata": {},
   "outputs": [
    {
     "name": "stdout",
     "output_type": "stream",
     "text": [
      "The largest change on any one day, based on High/Low price, was $2.81\n"
     ]
    }
   ],
   "source": [
    "#4. What was the largest change in any one day (based on High and Low price)?\n",
    "\n",
    "#Note: high and low price are index 2 and 3 in: json_data['dataset_data']['data'][(date)][(index)] \n",
    "#We can do something similar to the previous exercise, where we make a dictionary\n",
    "#where key = date and value = the difference in high and low price.\n",
    "\n",
    "dict_change = {}\n",
    "\n",
    "for i in range(len(json_data['dataset_data']['data'])):\n",
    "    key = json_data['dataset_data']['data'][i][0]\n",
    "    high = json_data['dataset_data']['data'][i][2]\n",
    "    low = json_data['dataset_data']['data'][i][3]\n",
    "    value = high - low\n",
    "    \n",
    "    if type(value) == float:\n",
    "        dict_change[key] = value\n",
    "    else:\n",
    "        pass\n",
    "\n",
    "max_value = max(dict_change.values())\n",
    "print('The largest change on any one day, based on High/Low price, was $' + str(round(max_value, 2)))\n"
   ]
  },
  {
   "cell_type": "code",
   "execution_count": 9,
   "metadata": {},
   "outputs": [
    {
     "name": "stdout",
     "output_type": "stream",
     "text": [
      "2.559999999999995\n",
      "-1.7199999999999989\n",
      "The largest change between any two days, based on Closing Price, was $2.56\n"
     ]
    }
   ],
   "source": [
    "#5. What was the largest change between any two days (based on Closing Price)?\n",
    "\n",
    "#Same as above... this time, closing price is the 4th index.\n",
    "#Since we're finding the difference between 2 days, let's skip the last day by adding '-1' to our range.\n",
    "#Skipping the last day means each value is the difference between today and tomorrow's closing price.\n",
    "\n",
    "dict_change_close = {}\n",
    "\n",
    "for i in range(len(json_data['dataset_data']['data'])-1):\n",
    "    key = json_data['dataset_data']['data'][i][0]\n",
    "    close_tomorrow = json_data['dataset_data']['data'][i+1][4]\n",
    "    close_today = json_data['dataset_data']['data'][i][4]\n",
    "    value = close_tomorrow - close_today\n",
    "    \n",
    "    if type(value) == float:\n",
    "        dict_change_close[key] = value\n",
    "    else:\n",
    "        pass\n",
    "\n",
    "max_value = max(dict_change_close.values())\n",
    "min_value = min(dict_change_close.values())\n",
    "\n",
    "print(max_value)\n",
    "print(min_value)\n",
    "print('The largest change between any two days, based on Closing Price, was $' + str(round(max_value, 2)))\n"
   ]
  },
  {
   "cell_type": "code",
   "execution_count": 10,
   "metadata": {},
   "outputs": [
    {
     "name": "stdout",
     "output_type": "stream",
     "text": [
      "The average daily trading volume during 2017 was $89124.34\n"
     ]
    }
   ],
   "source": [
    "#6. What was the average daily trading volume during this year?\n",
    "\n",
    "#Note: the Traded Volume is index 6 in: json_data['dataset_data']['data'][(date)][(index)] \n",
    "#let's make a list of all the values and then find the average.\n",
    "\n",
    "traded_vol = []\n",
    "for i in range(len(json_data['dataset_data']['data'])):\n",
    "    value = json_data['dataset_data']['data'][i][6] \n",
    "    if type(value) == float:\n",
    "        traded_vol.append(value)\n",
    "    else:\n",
    "        pass\n",
    "\n",
    "avg = sum(traded_vol) / len(traded_vol)\n",
    "\n",
    "print('The average daily trading volume during 2017 was $' + str(round(avg, 2)))\n"
   ]
  },
  {
   "cell_type": "code",
   "execution_count": 11,
   "metadata": {},
   "outputs": [
    {
     "name": "stdout",
     "output_type": "stream",
     "text": [
      "The median daily trading volume during 2017 was $76286.0\n"
     ]
    }
   ],
   "source": [
    "#7. (Optional) What was the median trading volume during this year. \n",
    "#(Note: you may need to implement your own function for calculating the median.)\n",
    "\n",
    "def median(lst):\n",
    "    lst_sorted = sorted(lst)\n",
    "    lst_length = len(lst)\n",
    "    index = (lst_length - 1) // 2\n",
    "\n",
    "    if (lst_length % 2):\n",
    "        return lst_sorted[index]\n",
    "    else:\n",
    "        return (lst_sorted[index] + lst_sorted[index + 1])/2.0\n",
    "\n",
    "med = median(traded_vol)\n",
    "print('The median daily trading volume during 2017 was $' + str(round(med, 2)))\n"
   ]
  }
 ],
 "metadata": {
  "kernelspec": {
   "display_name": "Python 3",
   "language": "python",
   "name": "python3"
  },
  "language_info": {
   "codemirror_mode": {
    "name": "ipython",
    "version": 3
   },
   "file_extension": ".py",
   "mimetype": "text/x-python",
   "name": "python",
   "nbconvert_exporter": "python",
   "pygments_lexer": "ipython3",
   "version": "3.7.6"
  }
 },
 "nbformat": 4,
 "nbformat_minor": 2
}
