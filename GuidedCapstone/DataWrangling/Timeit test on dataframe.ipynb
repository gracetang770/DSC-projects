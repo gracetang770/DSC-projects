{
 "cells": [
  {
   "cell_type": "markdown",
   "metadata": {},
   "source": [
    "We want to see which is faster: using operators (df.col1 + df.col2) or functions (df[[col1,col2]].sum()) when dealing with pandas dataframes."
   ]
  },
  {
   "cell_type": "code",
   "execution_count": 3,
   "metadata": {},
   "outputs": [],
   "source": [
    "import os\n",
    "import pandas as pd\n",
    "import datetime\n",
    "import seaborn as sns\n",
    "import matplotlib.pyplot as plt\n",
    "import numpy as np\n",
    "import timeit"
   ]
  },
  {
   "cell_type": "code",
   "execution_count": 4,
   "metadata": {},
   "outputs": [
    {
     "data": {
      "text/html": [
       "<div>\n",
       "<style scoped>\n",
       "    .dataframe tbody tr th:only-of-type {\n",
       "        vertical-align: middle;\n",
       "    }\n",
       "\n",
       "    .dataframe tbody tr th {\n",
       "        vertical-align: top;\n",
       "    }\n",
       "\n",
       "    .dataframe thead th {\n",
       "        text-align: right;\n",
       "    }\n",
       "</style>\n",
       "<table border=\"1\" class=\"dataframe\">\n",
       "  <thead>\n",
       "    <tr style=\"text-align: right;\">\n",
       "      <th></th>\n",
       "      <th>col1</th>\n",
       "      <th>col2</th>\n",
       "      <th>col3</th>\n",
       "    </tr>\n",
       "  </thead>\n",
       "  <tbody>\n",
       "    <tr>\n",
       "      <th>0</th>\n",
       "      <td>2.0</td>\n",
       "      <td>NaN</td>\n",
       "      <td>5.0</td>\n",
       "    </tr>\n",
       "    <tr>\n",
       "      <th>1</th>\n",
       "      <td>3.0</td>\n",
       "      <td>2.0</td>\n",
       "      <td>4.0</td>\n",
       "    </tr>\n",
       "    <tr>\n",
       "      <th>2</th>\n",
       "      <td>4.0</td>\n",
       "      <td>4.0</td>\n",
       "      <td>NaN</td>\n",
       "    </tr>\n",
       "    <tr>\n",
       "      <th>3</th>\n",
       "      <td>NaN</td>\n",
       "      <td>10.0</td>\n",
       "      <td>2.0</td>\n",
       "    </tr>\n",
       "  </tbody>\n",
       "</table>\n",
       "</div>"
      ],
      "text/plain": [
       "   col1  col2  col3\n",
       "0   2.0   NaN   5.0\n",
       "1   3.0   2.0   4.0\n",
       "2   4.0   4.0   NaN\n",
       "3   NaN  10.0   2.0"
      ]
     },
     "execution_count": 4,
     "metadata": {},
     "output_type": "execute_result"
    }
   ],
   "source": [
    "df = pd.DataFrame({'col1':[2,3,4, np.nan], 'col2':[np.nan,2,4,10], 'col3':[5,4,np.nan,2]})\n",
    "df"
   ]
  },
  {
   "cell_type": "code",
   "execution_count": 7,
   "metadata": {},
   "outputs": [
    {
     "name": "stdout",
     "output_type": "stream",
     "text": [
      "sum = df.col1.fillna(0) + df.col2.fillna(0) + df.col3.fillna(0)\n",
      "sum = df[df.columns].sum(axis=1)\n"
     ]
    },
    {
     "data": {
      "image/png": "[encoded data removed]",
      "text/plain": [
       "<Figure size 432x288 with 1 Axes>"
      ]
     },
     "metadata": {
      "needs_background": "light"
     },
     "output_type": "display_data"
    }
   ],
   "source": [
    "import timeit\n",
    "\n",
    "setup = '''\n",
    "import pandas as pd\n",
    "import numpy as np\n",
    "import timeit\n",
    "import matplotlib.pyplot as plt\n",
    "df = pd.DataFrame({'col1':[2,3,4, np.nan], 'col2':[np.nan,2,4,10], 'col3':[5,4,np.nan,2]})\n",
    "'''\n",
    "\n",
    "f = ['sum = df.col1.fillna(0) + df.col2.fillna(0) + df.col3.fillna(0)', 'sum = df[df.columns].sum(axis=1)']\n",
    "\n",
    "for func in f:\n",
    "    print(func)\n",
    "    sns.distplot(timeit.repeat(func, setup, repeat = 100, number = 1000), label=func)\n",
    "plt.legend(loc='upper right')\n",
    "plt.show()\n",
    "\n",
    "    \n",
    "#Can replace last line with other functions:\n",
    "#    print(min(timeit.Timer(func, setup).repeat(3, 1000))) #for min time\n",
    "#    print(np.mean(timeit.Timer(func, setup).repeat(3, 1000))) #for mean time\n",
    "#    print(np.median(timeit.Timer(func, setup).repeat(3, 1000)))"
   ]
  },
  {
   "cell_type": "markdown",
   "metadata": {},
   "source": [
    "Conclusion: Min, Mean, and Median all imply that .sum() function is slightly faster than using operators with .fillna(0), for our 3x4 df. The histograms imply the same: with operators, the x-axis ranges from .44 to .54 sec; with .sum() the range is .41-.48 sec. Both are right-skewed histograms.\n"
   ]
  },
  {
   "cell_type": "markdown",
   "metadata": {},
   "source": [
    "We can prove this with a hypothesis test, where the null hypothesis is that there's no difference in speed between the two functions, and the alternative hypothesis is that there is a difference (we can do two-sided hypothesis test, assuming we don't already know that the .sum() function is faster)."
   ]
  },
  {
   "cell_type": "code",
   "execution_count": 5,
   "metadata": {},
   "outputs": [
    {
     "data": {
      "text/plain": [
       "Ttest_indResult(statistic=10.93806225566979, pvalue=4.361854861870976e-22)"
      ]
     },
     "execution_count": 5,
     "metadata": {},
     "output_type": "execute_result"
    }
   ],
   "source": [
    "#using scipy.stats.ttest_ind(a, b, axis=0, equal_var=True, nan_policy='propagate')[source]\n",
    "\n",
    "from scipy.stats import ttest_ind\n",
    "\n",
    "setup = '''\n",
    "import pandas as pd\n",
    "import numpy as np\n",
    "import timeit\n",
    "import matplotlib.pyplot as plt\n",
    "df = pd.DataFrame({'col1':[2,3,4, np.nan], 'col2':[np.nan,2,4,10], 'col3':[5,4,np.nan,2]})\n",
    "'''\n",
    "\n",
    "f_sum = 'sum = df[df.columns].sum(axis=1)'\n",
    "f_operator = 'sum = df.col1.fillna(0) + df.col2.fillna(0) + df.col3.fillna(0)'\n",
    "\n",
    "time_sum = timeit.repeat(f_sum, setup, repeat = 100, number = 1000)\n",
    "time_operator = timeit.repeat(f_operator, setup, repeat = 100, number = 1000)\n",
    "\n",
    "ttest_ind(time_sum, time_operator)"
   ]
  },
  {
   "cell_type": "markdown",
   "metadata": {},
   "source": [
    "The p-value is close to 0, so we throw out the null hypothesis (that the two methods have the same average runtime)."
   ]
  },
  {
   "cell_type": "code",
   "execution_count": null,
   "metadata": {},
   "outputs": [],
   "source": []
  }
 ],
 "metadata": {
  "kernelspec": {
   "display_name": "Python 3",
   "language": "python",
   "name": "python3"
  },
  "language_info": {
   "codemirror_mode": {
    "name": "ipython",
    "version": 3
   },
   "file_extension": ".py",
   "mimetype": "text/x-python",
   "name": "python",
   "nbconvert_exporter": "python",
   "pygments_lexer": "ipython3",
   "version": "3.8.3"
  }
 },
 "nbformat": 4,
 "nbformat_minor": 4
}
