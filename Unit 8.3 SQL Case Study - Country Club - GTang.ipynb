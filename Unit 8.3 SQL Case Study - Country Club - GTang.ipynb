{
 "cells": [
  {
   "cell_type": "markdown",
   "metadata": {},
   "source": [
    "/* Welcome to the SQL mini project. You will carry out this project partly in\n",
    "the PHPMyAdmin interface, and partly in Jupyter via a Python connection.\n",
    "\n",
    "This is Tier 2 of the case study, which means that there'll be less guidance for you about how to setup\n",
    "your local SQLite connection in PART 2 of the case study. This will make the case study more challenging for you: \n",
    "you might need to do some digging, aand revise the Working with Relational Databases in Python chapter in the previous resource.\n",
    "\n",
    "Otherwise, the questions in the case study are exactly the same as with Tier 1. \n",
    "\n",
    "PART 1: PHPMyAdmin\n",
    "You will complete questions 1-9 below in the PHPMyAdmin interface. \n",
    "Log in by pasting the following URL into your browser, and\n",
    "using the following Username and Password:\n",
    "\n",
    "URL: https://sql.springboard.com/\n",
    "Username: student\n",
    "Password: learn_sql@springboard\n",
    "\n",
    "The data you need is in the \"country_club\" database. This database\n",
    "contains 3 tables:\n",
    "    i) the \"Bookings\" table,\n",
    "    ii) the \"Facilities\" table, and\n",
    "    iii) the \"Members\" table.\n",
    "\n",
    "In this case study, you'll be asked a series of questions. You can\n",
    "solve them using the platform, but for the final deliverable,\n",
    "paste the code for each solution into this script, and upload it\n",
    "to your GitHub.\n",
    "\n",
    "Before starting with the questions, feel free to take your time,\n",
    "exploring the data, and getting acquainted with the 3 tables. */"
   ]
  },
  {
   "cell_type": "markdown",
   "metadata": {},
   "source": [
    "/* Q1: Some of the facilities charge a fee to members, but some do not.\n",
    "Write a SQL query to produce a list of the names of the facilities that do. */"
   ]
  },
  {
   "cell_type": "code",
   "execution_count": null,
   "metadata": {},
   "outputs": [],
   "source": [
    "SELECT name, membercost \n",
    "FROM Facilities\n",
    "WHERE membercost > 0;"
   ]
  },
  {
   "cell_type": "markdown",
   "metadata": {},
   "source": [
    "/* Q2: How many facilities do not charge a fee to members? */"
   ]
  },
  {
   "cell_type": "code",
   "execution_count": null,
   "metadata": {},
   "outputs": [],
   "source": [
    "SELECT name, membercost \n",
    "FROM Facilities\n",
    "WHERE membercost = 0;\n",
    "\n",
    "#A2: 4 facilities do not charge fees to members."
   ]
  },
  {
   "cell_type": "markdown",
   "metadata": {},
   "source": [
    "/* Q3: Write an SQL query to show a list of facilities that charge a fee to members,\n",
    "where the fee is less than 20% of the facility's monthly maintenance cost.\n",
    "Return the facid, facility name, member cost, and monthly maintenance of the\n",
    "facilities in question. */"
   ]
  },
  {
   "cell_type": "code",
   "execution_count": null,
   "metadata": {},
   "outputs": [],
   "source": [
    "SELECT facid, name, membercost, monthlymaintenance\n",
    "FROM Facilities\n",
    "WHERE membercost > 0 and membercost < 0.2 * monthlymaintenance;"
   ]
  },
  {
   "cell_type": "markdown",
   "metadata": {},
   "source": [
    "/* Q4: Write an SQL query to retrieve the details of facilities with ID 1 and 5.\n",
    "Try writing the query without using the OR operator. */"
   ]
  },
  {
   "cell_type": "code",
   "execution_count": null,
   "metadata": {},
   "outputs": [],
   "source": [
    "SELECT *\n",
    "FROM Facilities\n",
    "WHERE facid in (1,5);"
   ]
  },
  {
   "cell_type": "markdown",
   "metadata": {},
   "source": [
    "/* Q5: Produce a list of facilities, with each labelled as\n",
    "'cheap' or 'expensive', depending on if their monthly maintenance cost is\n",
    "more than $100. Return the name and monthly maintenance of the facilities\n",
    "in question. */"
   ]
  },
  {
   "cell_type": "code",
   "execution_count": null,
   "metadata": {},
   "outputs": [],
   "source": [
    "SELECT\n",
    "    name, \n",
    "    monthlymaintenance, \n",
    "    CASE WHEN monthlymaintenance >100 THEN 'Expensive'\n",
    "    ELSE 'Cheap' END AS label\n",
    "FROM Facilities as f\n",
    "\n",
    "#A5: The name and monthly maintenance costs of the 4 facilities w/ m.cost >$100 are:\n",
    "# Tennis Court 1, 200\n",
    "# Tennis Court 2, 200\n",
    "# Massage Room 1, 3000\n",
    "# Massage Room 2, 3000\n"
   ]
  },
  {
   "cell_type": "markdown",
   "metadata": {},
   "source": [
    "/* Q6: You'd like to get the first and last name of the last member(s)\n",
    "who signed up. Try not to use the LIMIT clause for your solution. */"
   ]
  },
  {
   "cell_type": "code",
   "execution_count": null,
   "metadata": {},
   "outputs": [],
   "source": [
    "#This first answer returns the first & last names of members in descending order by joindate.\n",
    "SELECT firstname, surname, joindate\n",
    "FROM Members\n",
    "ORDER BY joindate DESC\n",
    "\n",
    "#This second answer returns the frist & last names of the member/s who joined in the latest joindate.\n",
    "SELECT firstname, surname, joindate\n",
    "FROM Members\n",
    "INNER JOIN (\n",
    "    SELECT MAX(joindate) as LatestDate\n",
    "    FROM Members\n",
    "    ) as m\n",
    "ON Members.joindate = m.LatestDate\n",
    "\n",
    "#A6: the last member is Darren Smith."
   ]
  },
  {
   "cell_type": "markdown",
   "metadata": {},
   "source": [
    "/* Q7: Produce a list of all members who have used a tennis court.\n",
    "Include in your output the name of the court, and the name of the member\n",
    "formatted as a single column. Ensure no duplicate data, and order by\n",
    "the member name. */"
   ]
  },
  {
   "cell_type": "code",
   "execution_count": null,
   "metadata": {},
   "outputs": [],
   "source": [
    "SELECT DISTINCT f.name as facility_name, m.member_name\n",
    "FROM Bookings as b\n",
    "LEFT JOIN Facilities as f\n",
    "ON b.facid = f.facid\n",
    "LEFT JOIN (\n",
    "    SELECT memid, concat(firstname, SPACE(1), surname) as member_name\n",
    "    FROM Members) as m\n",
    "ON b.memid = m.memid\n",
    "WHERE b.facid in (0,1)\n",
    "ORDER BY m.member_name, f.name"
   ]
  },
  {
   "cell_type": "markdown",
   "metadata": {},
   "source": [
    "/* Q8: Produce a list of bookings on the day of 2012-09-14 which\n",
    "will cost the member (or guest) more than $30. Remember that guests have\n",
    "different costs to members (the listed costs are per half-hour 'slot'), and\n",
    "the guest user's ID is always 0. Include in your output the name of the\n",
    "facility, the name of the member formatted as a single column, and the cost.\n",
    "Order by descending cost, and do not use any subqueries. */"
   ]
  },
  {
   "cell_type": "code",
   "execution_count": null,
   "metadata": {},
   "outputs": [],
   "source": [
    "SELECT\n",
    "    f.name as facility_name, \n",
    "    concat(m.firstname, SPACE(1), m.surname) as member_name, \n",
    "    (CASE WHEN b.memid = 0 AND f.guestcost*b.slots > 30 THEN f.guestcost*b.slots\n",
    "     WHEN b.memid > 0 AND f.membercost*b.slots >30 THEN f.membercost*b.slots \n",
    "     END) as cost\n",
    "FROM Bookings as b\n",
    "LEFT JOIN Facilities as f\n",
    "ON b.facid = f.facid\n",
    "LEFT JOIN Members as m\n",
    "ON b.memid = m.memid\n",
    "WHERE starttime LIKE '2012-09-14%' AND \n",
    "    CASE WHEN b.memid = 0 AND f.guestcost*b.slots > 30 THEN f.guestcost*b.slots\n",
    "     WHEN b.memid > 0 AND f.membercost*b.slots >30 THEN f.membercost*b.slots \n",
    "     END IS NOT NULL\n",
    "ORDER BY cost DESC"
   ]
  },
  {
   "cell_type": "markdown",
   "metadata": {},
   "source": [
    "/* Q9: This time, produce the same result as in Q8, but using a subquery. */"
   ]
  },
  {
   "cell_type": "code",
   "execution_count": null,
   "metadata": {},
   "outputs": [],
   "source": [
    "SELECT facility_name, member_name, cost\n",
    "FROM\n",
    "    (SELECT\n",
    "        (SELECT name\n",
    "         FROM Facilities as f\n",
    "         WHERE f.facid = b.facid) \n",
    "            as facility_name, \n",
    "        (SELECT\n",
    "         concat(m.firstname, SPACE(1), m.surname) \n",
    "         FROM Members as m\n",
    "         WHERE m.memid = b.memid)\n",
    "            as member_name, \n",
    "        (CASE WHEN b.memid = 0 THEN f.guestcost*b.slots\n",
    "         WHEN b.memid > 0 THEN f.membercost*b.slots \n",
    "         END) as cost\n",
    "        FROM Bookings as b\n",
    "        LEFT JOIN Facilities as f\n",
    "        ON b.facid = f.facid\n",
    "        WHERE starttime LIKE '2012-09-14%'\n",
    "    ) as s\n",
    "WHERE cost > 30\n",
    "ORDER BY cost DESC"
   ]
  },
  {
   "cell_type": "markdown",
   "metadata": {},
   "source": [
    "/* PART 2: SQLite\n",
    "\n",
    "Export the country club data from PHPMyAdmin, and connect to a local SQLite instance from Jupyter notebook \n",
    "for the following questions.  "
   ]
  },
  {
   "cell_type": "code",
   "execution_count": 1,
   "metadata": {},
   "outputs": [],
   "source": [
    "import sqlite3\n",
    "from sqlalchemy import create_engine\n",
    "import pandas as pd"
   ]
  },
  {
   "cell_type": "code",
   "execution_count": null,
   "metadata": {},
   "outputs": [],
   "source": [
    "# HereI try to run use \"create_engine\" like in the Datacamp resource on my .sql file, \n",
    "# but I get the error \"DatabaseError: (sqlite3.DatabaseError) file is not a database\n",
    "# [SQL: SELECT * FROM Facilities]\n",
    "# Background on this error at: http://sqlalche.me/e/13/4xp6\"\n",
    "\n",
    "engine = create_engine('sqlite:///country_club_sqlite.sql')\n",
    "with engine.connect() as con:\n",
    "    rs = con.execute(\"SELECT * FROM Facilities\")\n",
    "    df = pd.DataFrame(rs.fetchall())\n",
    "    df.columns = rs.keys()\n"
   ]
  },
  {
   "cell_type": "code",
   "execution_count": null,
   "metadata": {},
   "outputs": [],
   "source": [
    "# In my second attempt, I try to read my sql file by using this code I found in stack overflow. I get a syntax error.\n",
    "# But even when I remove the code with the error, and run just the first 3 lines, \n",
    "# I get \"sqlFile\" as a str, and I still cannot work with it.\n",
    "\n",
    "\n",
    "\n",
    "# Open and read the file as a single buffer\n",
    "fd = open('country_club_sqlite.sql', 'r')\n",
    "sqlFile = fd.read()\n",
    "fd.close()\n",
    "\n",
    "# all SQL commands (split on ';')\n",
    "sqlCommands = sqlFile.split(';')\n",
    "\n",
    "# Execute every command from the input file\n",
    "for command in sqlCommands:\n",
    "    # This will skip and report errors\n",
    "    # For example, if the tables do not yet exist, this will skip over\n",
    "    # the DROP TABLE commands\n",
    "    try:\n",
    "       c.execute(command)\n",
    "    except OperationalError, msg:\n",
    "       print \"Command skipped: \", msg"
   ]
  },
  {
   "cell_type": "code",
   "execution_count": null,
   "metadata": {},
   "outputs": [],
   "source": [
    "type(sqlFile)"
   ]
  },
  {
   "cell_type": "code",
   "execution_count": null,
   "metadata": {},
   "outputs": [],
   "source": [
    "#In my 3rd and final attempt, I to use pd.read_sql_query(), but I realized I don't know how to set up a database,\n",
    "# so I don't know how to connect to the database...\n",
    "\n",
    "query = open('country_club_sqlite.sql', 'r')\n",
    "# connection == the connection to your database\n",
    "df = pd.read_sql_query(query.read(), connection)\n",
    "query.close() "
   ]
  },
  {
   "cell_type": "code",
   "execution_count": 2,
   "metadata": {},
   "outputs": [],
   "source": [
    "# At this point, I gave up and decided to use the instructions and files\n",
    "# provided by Springboard for Tier 1 work. This is copied and run below.\n",
    "\n",
    "import os\n",
    "os.getcwd()\n",
    "path = 'C:\\\\Users\\\\grace\\\\Documents\\\\Data Science Bootcamp\\\\DSC-projects\\\\Springboard\\\\SQLFiles Tier 1'\n",
    "os.chdir(path)"
   ]
  },
  {
   "cell_type": "code",
   "execution_count": 3,
   "metadata": {},
   "outputs": [
    {
     "data": {
      "text/plain": [
       "'C:\\\\Users\\\\grace\\\\Documents\\\\Data Science Bootcamp\\\\DSC-projects\\\\Springboard\\\\SQLFiles Tier 1'"
      ]
     },
     "execution_count": 3,
     "metadata": {},
     "output_type": "execute_result"
    }
   ],
   "source": [
    "os.getcwd()"
   ]
  },
  {
   "cell_type": "code",
   "execution_count": 4,
   "metadata": {},
   "outputs": [
    {
     "name": "stdout",
     "output_type": "stream",
     "text": [
      "2.6.0\n",
      "2. Query all tasks\n",
      "(0, 'Tennis Court 1', 5, 25, 10000, 200)\n",
      "(1, 'Tennis Court 2', 5, 25, 8000, 200)\n",
      "(2, 'Badminton Court', 0, 15.5, 4000, 50)\n",
      "(3, 'Table Tennis', 0, 5, 320, 10)\n",
      "(4, 'Massage Room 1', 9.9, 80, 4000, 3000)\n",
      "(5, 'Massage Room 2', 9.9, 80, 4000, 3000)\n",
      "(6, 'Squash Court', 3.5, 17.5, 5000, 80)\n",
      "(7, 'Snooker Table', 0, 5, 450, 15)\n",
      "(8, 'Pool Table', 0, 5, 400, 15)\n"
     ]
    }
   ],
   "source": [
    "# import sqlite3\n",
    "from sqlite3 import Error\n",
    " \n",
    "def create_connection(db_file):\n",
    "    \"\"\" create a database connection to the SQLite database\n",
    "        specified by the db_file\n",
    "    :param db_file: database file\n",
    "    :return: Connection object or None\n",
    "    \"\"\"\n",
    "    conn = None\n",
    "    try:\n",
    "        conn = sqlite3.connect(db_file)\n",
    "        print(sqlite3.version)\n",
    "    except Error as e:\n",
    "        print(e)\n",
    " \n",
    "    return conn\n",
    " \n",
    "def select_all_tasks(conn):\n",
    "    \"\"\"\n",
    "    Query all rows in the tasks table\n",
    "    :param conn: the Connection object\n",
    "    :return:\n",
    "    \"\"\"\n",
    "    cur = conn.cursor()\n",
    "    \n",
    "    query1 = \"\"\"\n",
    "        SELECT *\n",
    "        FROM FACILITIES\n",
    "        \"\"\"\n",
    "    cur.execute(query1)\n",
    " \n",
    "    rows = cur.fetchall()\n",
    " \n",
    "    for row in rows:\n",
    "        print(row)\n",
    "\n",
    "\n",
    "def main():\n",
    "    database = \"sqlite_db_pythonsqlite.db\"\n",
    " \n",
    "    # create a database connection\n",
    "    conn = create_connection(database)\n",
    "    with conn: \n",
    "        print(\"2. Query all tasks\")\n",
    "        select_all_tasks(conn)\n",
    " \n",
    " \n",
    "if __name__ == '__main__':\n",
    "    main()"
   ]
  },
  {
   "cell_type": "markdown",
   "metadata": {},
   "source": [
    "QUESTIONS:\n",
    "/* Q10: Produce a list of facilities with a total revenue less than 1000.\n",
    "The output of facility name and total revenue, sorted by revenue. Remember\n",
    "that there's a different cost for guests and members! */"
   ]
  },
  {
   "cell_type": "code",
   "execution_count": 8,
   "metadata": {},
   "outputs": [
    {
     "name": "stdout",
     "output_type": "stream",
     "text": [
      "2.6.0\n",
      "2. Query all tasks\n",
      "('Tennis Court 2', 630)\n",
      "('Tennis Court 1', 630)\n",
      "('Massage Room 2', 539.4)\n",
      "('Squash Court', 336.0)\n",
      "('Badminton Court', 232.5)\n",
      "('Pool Table', 105)\n",
      "('Snooker Table', 50)\n",
      "('Table Tennis', 40)\n"
     ]
    }
   ],
   "source": [
    "#Note in the query, if I don't specify the date, then all facilities make more than 1000 USD.\n",
    "#By restricting it to datetime to 2012-09-14 as in Q8 and Q9, \n",
    "#then we get 8 facilities that made less than 1000.\n",
    "\n",
    "def select_all_tasks(conn):\n",
    "    cur = conn.cursor()\n",
    "    query1 = \"\"\"\n",
    "SELECT facility_name, total_revenue\n",
    "FROM (\n",
    "        SELECT\n",
    "            f.name as facility_name, \n",
    "            (SUM(f.guestcost*b.slots) + SUM(f.membercost*b.slots)) as total_revenue\n",
    "        FROM Bookings as b\n",
    "        LEFT JOIN Facilities as f\n",
    "        ON b.facid = f.facid\n",
    "        LEFT JOIN Members as m\n",
    "        ON b.memid = m.memid\n",
    "        WHERE starttime LIKE '2012-09-14%'AND \n",
    "        CASE WHEN b.memid = 0 THEN f.guestcost*b.slots\n",
    "        WHEN b.memid > 0 THEN f.membercost*b.slots END IS NOT NULL\n",
    "        GROUP BY b.facid\n",
    "        ORDER BY total_revenue DESC\n",
    "    ) as s\n",
    "WHERE total_revenue < 1000\n",
    "        \"\"\"\n",
    "    cur.execute(query1)\n",
    "    rows = cur.fetchall()\n",
    "    for row in rows:\n",
    "        print(row)\n",
    "\n",
    "if __name__ == '__main__':\n",
    "    main()"
   ]
  },
  {
   "cell_type": "markdown",
   "metadata": {},
   "source": [
    "/* Q11: Produce a report of members and who recommended them in alphabetic surname,firstname order */"
   ]
  },
  {
   "cell_type": "code",
   "execution_count": 10,
   "metadata": {},
   "outputs": [
    {
     "name": "stdout",
     "output_type": "stream",
     "text": [
      "2.6.0\n",
      "2. Query all tasks\n",
      "('Bader', 'Florence', 'Stibbons', 'Ponder')\n",
      "('Baker', 'Anne', 'Stibbons', 'Ponder')\n",
      "('Baker', 'Timothy', 'Farrell', 'Jemima')\n",
      "('Boothe', 'Tim', 'Rownam', 'Tim')\n",
      "('Butters', 'Gerald', 'Smith', 'Darren')\n",
      "('Coplin', 'Joan', 'Baker', 'Timothy')\n",
      "('Crumpet', 'Erica', 'Smith', 'Tracy')\n",
      "('Dare', 'Nancy', 'Joplette', 'Janice')\n",
      "('Genting', 'Matthew', 'Butters', 'Gerald')\n",
      "('Hunt', 'John', 'Purview', 'Millicent')\n",
      "('Jones', 'David', 'Joplette', 'Janice')\n",
      "('Jones', 'Douglas', 'Jones', 'David')\n",
      "('Joplette', 'Janice', 'Smith', 'Darren')\n",
      "('Mackenzie', 'Anna', 'Smith', 'Darren')\n",
      "('Owen', 'Charles', 'Smith', 'Darren')\n",
      "('Pinker', 'David', 'Farrell', 'Jemima')\n",
      "('Purview', 'Millicent', 'Smith', 'Tracy')\n",
      "('Rumney', 'Henrietta', 'Genting', 'Matthew')\n",
      "('Sarwin', 'Ramnaresh', 'Bader', 'Florence')\n",
      "('Smith', 'Jack', 'Smith', 'Darren')\n",
      "('Stibbons', 'Ponder', 'Tracy', 'Burton')\n",
      "('Worthington-Smyth', 'Henry', 'Smith', 'Tracy')\n"
     ]
    }
   ],
   "source": [
    "#This returns two members in (surname, firstname) order. First the member, and then who recommended them.\n",
    "\n",
    "def select_all_tasks(conn):\n",
    "    cur = conn.cursor()\n",
    "    query1 = \"\"\"\n",
    "SELECT m1.surname, m1.firstname, m2.surname as rec_surname, m2.firstname as rec_firstname\n",
    "FROM Members as m1\n",
    "INNER JOIN Members as m2\n",
    "ON m2.memid = m1.recommendedby\n",
    "WHERE m1.memid > 0\n",
    "ORDER BY m1.surname, m1.firstname\n",
    "        \"\"\"\n",
    "    cur.execute(query1)\n",
    "    rows = cur.fetchall()\n",
    "    for row in rows:\n",
    "        print(row)\n",
    "\n",
    "if __name__ == '__main__':\n",
    "    main()"
   ]
  },
  {
   "cell_type": "markdown",
   "metadata": {},
   "source": [
    "/* Q12: Find the facilities with their usage by member, but not guests */"
   ]
  },
  {
   "cell_type": "code",
   "execution_count": 11,
   "metadata": {},
   "outputs": [
    {
     "name": "stdout",
     "output_type": "stream",
     "text": [
      "2.6.0\n",
      "2. Query all tasks\n",
      "('Tennis Court 1', 957)\n",
      "('Tennis Court 2', 882)\n",
      "('Badminton Court', 1086)\n",
      "('Table Tennis', 794)\n",
      "('Massage Room 1', 884)\n",
      "('Massage Room 2', 54)\n",
      "('Squash Court', 418)\n",
      "('Snooker Table', 860)\n",
      "('Pool Table', 856)\n"
     ]
    }
   ],
   "source": [
    "# This returns the # of times each facility was used by members (i.e. summing all the slots)\n",
    "\n",
    "def select_all_tasks(conn):\n",
    "    cur = conn.cursor()\n",
    "    query1 = \"\"\"\n",
    "SELECT\n",
    "f.name as facility_name, \n",
    "SUM(b.slots) as fac_usage\n",
    "FROM Bookings as b\n",
    "LEFT JOIN Facilities as f\n",
    "ON b.facid = f.facid\n",
    "WHERE b.memid > 0\n",
    "GROUP BY b.facid\n",
    "        \"\"\"\n",
    "    cur.execute(query1)\n",
    "    rows = cur.fetchall()\n",
    "    for row in rows:\n",
    "        print(row)\n",
    "\n",
    "if __name__ == '__main__':\n",
    "    main()"
   ]
  },
  {
   "cell_type": "markdown",
   "metadata": {},
   "source": [
    "/* Q13: Find the facilities usage by month, but not guests */"
   ]
  },
  {
   "cell_type": "code",
   "execution_count": 14,
   "metadata": {},
   "outputs": [
    {
     "name": "stdout",
     "output_type": "stream",
     "text": [
      "2.6.0\n",
      "2. Query all tasks\n",
      "('Tennis Court 1', '07', 201)\n",
      "('Tennis Court 1', '08', 339)\n",
      "('Tennis Court 1', '09', 417)\n",
      "('Tennis Court 2', '07', 123)\n",
      "('Tennis Court 2', '08', 345)\n",
      "('Tennis Court 2', '09', 414)\n",
      "('Badminton Court', '07', 165)\n",
      "('Badminton Court', '08', 414)\n",
      "('Badminton Court', '09', 507)\n",
      "('Table Tennis', '07', 98)\n",
      "('Table Tennis', '08', 296)\n",
      "('Table Tennis', '09', 400)\n",
      "('Massage Room 1', '07', 166)\n",
      "('Massage Room 1', '08', 316)\n",
      "('Massage Room 1', '09', 402)\n",
      "('Massage Room 2', '07', 8)\n",
      "('Massage Room 2', '08', 18)\n",
      "('Massage Room 2', '09', 28)\n",
      "('Squash Court', '07', 50)\n",
      "('Squash Court', '08', 184)\n",
      "('Squash Court', '09', 184)\n",
      "('Snooker Table', '07', 140)\n",
      "('Snooker Table', '08', 316)\n",
      "('Snooker Table', '09', 404)\n",
      "('Pool Table', '07', 110)\n",
      "('Pool Table', '08', 303)\n",
      "('Pool Table', '09', 443)\n"
     ]
    }
   ],
   "source": [
    "# This returns the # of times each facility was used by members, per month (i.e. summing all the slots)\n",
    "\n",
    "def select_all_tasks(conn):\n",
    "    cur = conn.cursor()\n",
    "    query1 = \"\"\"\n",
    "SELECT\n",
    "f.name as facility_name, \n",
    "strftime('%m', starttime) as month,\n",
    "SUM(b.slots) as fac_usage\n",
    "FROM Bookings as b\n",
    "LEFT JOIN Facilities as f\n",
    "ON b.facid = f.facid\n",
    "WHERE b.memid > 0\n",
    "GROUP BY b.facid, month\n",
    "        \"\"\"\n",
    "    cur.execute(query1)\n",
    "    rows = cur.fetchall()\n",
    "    for row in rows:\n",
    "        print(row)\n",
    "\n",
    "if __name__ == '__main__':\n",
    "    main()"
   ]
  }
 ],
 "metadata": {
  "kernelspec": {
   "display_name": "Python 3",
   "language": "python",
   "name": "python3"
  },
  "language_info": {
   "codemirror_mode": {
    "name": "ipython",
    "version": 3
   },
   "file_extension": ".py",
   "mimetype": "text/x-python",
   "name": "python",
   "nbconvert_exporter": "python",
   "pygments_lexer": "ipython3",
   "version": "3.8.3"
  }
 },
 "nbformat": 4,
 "nbformat_minor": 4
}
